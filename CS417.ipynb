{
 "cells": [
  {
   "cell_type": "code",
   "id": "initial_id",
   "metadata": {
    "collapsed": true,
    "ExecuteTime": {
     "end_time": "2025-10-27T19:00:25.867344Z",
     "start_time": "2025-10-27T19:00:25.862669Z"
    }
   },
   "source": [
    "import numpy as np\n",
    "def step(x):\n",
    "    return 1 if x >= 0 else 0\n",
    "def neuron(inputs, weights, bias):\n",
    "    return step(np.dot(inputs, weights) + bias)"
   ],
   "outputs": [],
   "execution_count": 16
  },
  {
   "metadata": {
    "ExecuteTime": {
     "end_time": "2025-10-27T19:00:25.899941Z",
     "start_time": "2025-10-27T19:00:25.891708Z"
    }
   },
   "cell_type": "code",
   "source": [
    "def OR_P(inputs):\n",
    "    return neuron(inputs, np.array([1, 1]), -1)\n",
    "\n",
    "## NOT Gate\n",
    "def NOT_P(input):\n",
    "    return neuron(input, np.array([-1]), 0)\n",
    "\n",
    "## AND Gate\n",
    "def AND_P(inputs):\n",
    "    return neuron(inputs, np.array([1, 1]), -2)\n",
    "\n",
    "## XOR Gate V2\n",
    "def XOR_P(inputs):\n",
    "    n1 = neuron(inputs, np.array([1, 1]), -1)\n",
    "    n2 = neuron(inputs, np.array([-1, -1]), 1)\n",
    "    n3 = neuron([n1, n2], np.array([1, 1]), -2)\n",
    "    return n3"
   ],
   "id": "9275a8e855932302",
   "outputs": [],
   "execution_count": 17
  },
  {
   "metadata": {
    "ExecuteTime": {
     "end_time": "2025-10-27T19:00:25.932613Z",
     "start_time": "2025-10-27T19:00:25.920973Z"
    }
   },
   "cell_type": "code",
   "source": [
    "inputsList = [[a, b] for a in range(2) for b in range(2)]\n",
    "np_inputsList = np.array(inputsList)\n",
    "for x in np_inputsList:\n",
    "    print(f\"AND_P({x}) = {AND_P(x)}\")\n",
    "\n",
    "print(\"-\" * 50)\n",
    "\n",
    "inputList = [0 ,1]\n",
    "np_inputList = np.array(inputList)\n",
    "for x in np_inputList:\n",
    "    print(f\"NOT_P({x}) = { NOT_P(x)}\")\n",
    "\n",
    "print(\"-\" * 50)\n",
    "\n",
    "for x in np_inputsList:\n",
    "    print(f\"OR_P({x}) = { OR_P(x)}\")\n",
    "\n",
    "print(\"-\" * 50)\n",
    "\n",
    "for x in np_inputsList:\n",
    "    print(f\"XOR_P({x}) = { XOR_P(x)}\")"
   ],
   "id": "62ee73356aaa5cc",
   "outputs": [
    {
     "name": "stdout",
     "output_type": "stream",
     "text": [
      "AND_P([0 0]) = 0\n",
      "AND_P([0 1]) = 0\n",
      "AND_P([1 0]) = 0\n",
      "AND_P([1 1]) = 1\n",
      "--------------------------------------------------\n",
      "NOT_P(0) = 1\n",
      "NOT_P(1) = 0\n",
      "--------------------------------------------------\n",
      "OR_P([0 0]) = 0\n",
      "OR_P([0 1]) = 1\n",
      "OR_P([1 0]) = 1\n",
      "OR_P([1 1]) = 1\n",
      "--------------------------------------------------\n",
      "XOR_P([0 0]) = 0\n",
      "XOR_P([0 1]) = 1\n",
      "XOR_P([1 0]) = 1\n",
      "XOR_P([1 1]) = 0\n"
     ]
    }
   ],
   "execution_count": 18
  },
  {
   "metadata": {
    "ExecuteTime": {
     "end_time": "2025-10-27T19:00:25.968875Z",
     "start_time": "2025-10-27T19:00:25.961686Z"
    }
   },
   "cell_type": "code",
   "source": [
    "def MLP_P(inputs):\n",
    "    n1 = neuron(inputs[[1, 2]], np.array([1, 1]), -2)\n",
    "    n2 = neuron(inputs[[1, 3]], np.array([1, 1]), -2)\n",
    "    n3 = neuron(inputs[[0, 2]], np.array([1, -1]), -1)\n",
    "    n4 = neuron(inputs[[0, 1, 3]], np.array([1, -1, 1]), -2)\n",
    "    n5 = neuron(np.array([[n3, n4]]), np.array([1, 1]), -1)\n",
    "    n6 = neuron(np.array([[n1, n2]]), np.array([1, -1]), 0)\n",
    "    n7 = neuron(np.array([[n5, n6]]), np.array([1, 1]), -2)\n",
    "    return n7\n",
    "\n",
    "def MLP_EXP(inputs):\n",
    "    return ((inputs[0] and not inputs[1] and inputs[3]) or (inputs[0] and not inputs[2])) and ((inputs[1] and inputs[2]) or not (inputs[1] and inputs[3]))\n"
   ],
   "id": "b10aa8922247074c",
   "outputs": [],
   "execution_count": 19
  },
  {
   "metadata": {
    "ExecuteTime": {
     "end_time": "2025-10-27T19:00:25.994506Z",
     "start_time": "2025-10-27T19:00:25.981789Z"
    }
   },
   "cell_type": "code",
   "source": [
    "inputs = [[a, x, y, z] for a in range(2) for x in range(2) for y in range(2) for z in range(2)]\n",
    "np_inputs = np.array(inputs)\n",
    "for x in np_inputs:\n",
    "    print(f\"MLP_P({x}) = { MLP_P(x)} -> {bool(MLP_EXP(x))}\")"
   ],
   "id": "5adc653d18674568",
   "outputs": [
    {
     "name": "stdout",
     "output_type": "stream",
     "text": [
      "MLP_P([0 0 0 0]) = 0 -> False\n",
      "MLP_P([0 0 0 1]) = 0 -> False\n",
      "MLP_P([0 0 1 0]) = 0 -> False\n",
      "MLP_P([0 0 1 1]) = 0 -> False\n",
      "MLP_P([0 1 0 0]) = 0 -> False\n",
      "MLP_P([0 1 0 1]) = 0 -> False\n",
      "MLP_P([0 1 1 0]) = 0 -> False\n",
      "MLP_P([0 1 1 1]) = 0 -> False\n",
      "MLP_P([1 0 0 0]) = 1 -> True\n",
      "MLP_P([1 0 0 1]) = 1 -> True\n",
      "MLP_P([1 0 1 0]) = 0 -> False\n",
      "MLP_P([1 0 1 1]) = 1 -> True\n",
      "MLP_P([1 1 0 0]) = 1 -> True\n",
      "MLP_P([1 1 0 1]) = 0 -> False\n",
      "MLP_P([1 1 1 0]) = 0 -> False\n",
      "MLP_P([1 1 1 1]) = 0 -> False\n"
     ]
    }
   ],
   "execution_count": 20
  },
  {
   "metadata": {
    "ExecuteTime": {
     "end_time": "2025-10-27T19:00:26.036186Z",
     "start_time": "2025-10-27T19:00:26.027866Z"
    }
   },
   "cell_type": "code",
   "source": [
    "def frequency(lst):\n",
    "    freq = []\n",
    "    counter = 1\n",
    "    i = 0\n",
    "    while i < len(lst) - 1:\n",
    "        if lst[i] == lst[i + 1]:\n",
    "            counter += 1\n",
    "        else:\n",
    "            freq.append(counter)\n",
    "            counter = 1\n",
    "        i += 1\n",
    "    freq.append(counter)\n",
    "    return freq\n",
    "\n",
    "\n",
    "test = [1, 1, 1, 2, 3, 4, 4, 4]\n",
    "\n",
    "freqs = frequency(test)\n",
    "\n",
    "s = 0\n",
    "j = 0\n",
    "while j < len(freqs):\n",
    "    print(f\"[{test[s]} : {freqs[j]}]\")\n",
    "    s += freqs[j]\n",
    "    j += 1\n"
   ],
   "id": "45137bbb9cc2d7c",
   "outputs": [
    {
     "name": "stdout",
     "output_type": "stream",
     "text": [
      "[1 : 3]\n",
      "[2 : 1]\n",
      "[3 : 1]\n",
      "[4 : 3]\n"
     ]
    }
   ],
   "execution_count": 21
  },
  {
   "metadata": {
    "ExecuteTime": {
     "end_time": "2025-10-27T19:00:26.100738Z",
     "start_time": "2025-10-27T19:00:26.076081Z"
    }
   },
   "cell_type": "code",
   "source": [
    "def EXP_P(inputs):\n",
    "    n1 = neuron(inputs[[2, 3]], np.array([-1, -1]), 0)\n",
    "    n2 = neuron(inputs[[0, 1, 2]], np.array([-1, 1, -1]), -1)\n",
    "    n3 = neuron(inputs[[1, 3]], np.array([-1, -1]), 0)\n",
    "    n4 = neuron(np.array([n1, n2, n3]), np.array([1, 1, 1]), -1)\n",
    "    return n4\n",
    "def TEST_EXP(inputs):\n",
    "    w, x, y, z = inputs\n",
    "    return not y and not z or not w and x and not y or not x and not z;\n",
    "\n",
    "arr = [[w, x, y, z] for w in range(2) for x in range(2) for y in range(2) for z in range(2)]\n",
    "arr2 = np.array(arr)\n",
    "for x in arr2:\n",
    "    print(f\"EXP_P({x}) = {EXP_P(x)} -> {TEST_EXP(x)}\")\n",
    "\n",
    "\n"
   ],
   "id": "62c7028715d520e8",
   "outputs": [
    {
     "name": "stdout",
     "output_type": "stream",
     "text": [
      "EXP_P([0 0 0 0]) = 1 -> True\n",
      "EXP_P([0 0 0 1]) = 0 -> False\n",
      "EXP_P([0 0 1 0]) = 1 -> True\n",
      "EXP_P([0 0 1 1]) = 0 -> False\n",
      "EXP_P([0 1 0 0]) = 1 -> True\n",
      "EXP_P([0 1 0 1]) = 1 -> True\n",
      "EXP_P([0 1 1 0]) = 0 -> False\n",
      "EXP_P([0 1 1 1]) = 0 -> False\n",
      "EXP_P([1 0 0 0]) = 1 -> True\n",
      "EXP_P([1 0 0 1]) = 0 -> False\n",
      "EXP_P([1 0 1 0]) = 1 -> True\n",
      "EXP_P([1 0 1 1]) = 0 -> False\n",
      "EXP_P([1 1 0 0]) = 1 -> True\n",
      "EXP_P([1 1 0 1]) = 0 -> False\n",
      "EXP_P([1 1 1 0]) = 0 -> False\n",
      "EXP_P([1 1 1 1]) = 0 -> False\n"
     ]
    }
   ],
   "execution_count": 22
  },
  {
   "metadata": {
    "ExecuteTime": {
     "end_time": "2025-10-27T19:09:14.164751Z",
     "start_time": "2025-10-27T19:09:14.146822Z"
    }
   },
   "cell_type": "code",
   "source": [
    "def XOR_L(inputs):\n",
    "\n",
    "    result = XOR_P(inputs[[0,1]])\n",
    "    for x in range(2, len(inputs)):\n",
    "        result = XOR_P(np.array([inputs[x], result]))\n",
    "\n",
    "    return result\n",
    "\n",
    "list_test = [[a, b, c, d, f] for a in range(2) for b in range(2) for c in range(2) for d in range(2) for f in range(2)]\n",
    "np_inputs = np.array(list_test)\n",
    "\n",
    "for x in np_inputs:\n",
    "    print(f\"XOR_L({x}) = {XOR_L(x)}\")\n",
    "\n",
    "\n"
   ],
   "id": "2d2d740e61be5498",
   "outputs": [
    {
     "name": "stdout",
     "output_type": "stream",
     "text": [
      "XOR_G([0 0 0 0 0]) = 0\n",
      "XOR_G([0 0 0 0 1]) = 1\n",
      "XOR_G([0 0 0 1 0]) = 1\n",
      "XOR_G([0 0 0 1 1]) = 0\n",
      "XOR_G([0 0 1 0 0]) = 1\n",
      "XOR_G([0 0 1 0 1]) = 0\n",
      "XOR_G([0 0 1 1 0]) = 0\n",
      "XOR_G([0 0 1 1 1]) = 1\n",
      "XOR_G([0 1 0 0 0]) = 1\n",
      "XOR_G([0 1 0 0 1]) = 0\n",
      "XOR_G([0 1 0 1 0]) = 0\n",
      "XOR_G([0 1 0 1 1]) = 1\n",
      "XOR_G([0 1 1 0 0]) = 0\n",
      "XOR_G([0 1 1 0 1]) = 1\n",
      "XOR_G([0 1 1 1 0]) = 1\n",
      "XOR_G([0 1 1 1 1]) = 0\n",
      "XOR_G([1 0 0 0 0]) = 1\n",
      "XOR_G([1 0 0 0 1]) = 0\n",
      "XOR_G([1 0 0 1 0]) = 0\n",
      "XOR_G([1 0 0 1 1]) = 1\n",
      "XOR_G([1 0 1 0 0]) = 0\n",
      "XOR_G([1 0 1 0 1]) = 1\n",
      "XOR_G([1 0 1 1 0]) = 1\n",
      "XOR_G([1 0 1 1 1]) = 0\n",
      "XOR_G([1 1 0 0 0]) = 0\n",
      "XOR_G([1 1 0 0 1]) = 1\n",
      "XOR_G([1 1 0 1 0]) = 1\n",
      "XOR_G([1 1 0 1 1]) = 0\n",
      "XOR_G([1 1 1 0 0]) = 1\n",
      "XOR_G([1 1 1 0 1]) = 0\n",
      "XOR_G([1 1 1 1 0]) = 0\n",
      "XOR_G([1 1 1 1 1]) = 1\n"
     ]
    }
   ],
   "execution_count": 33
  },
  {
   "metadata": {
    "ExecuteTime": {
     "end_time": "2025-10-27T19:08:42.668643Z",
     "start_time": "2025-10-27T19:08:42.650851Z"
    }
   },
   "cell_type": "code",
   "source": [
    "def XOR_I(inputs):\n",
    "    newInput = np.array(inputs)\n",
    "    while len(newInput) > 1:\n",
    "        xor_list = []\n",
    "        for x in range(0, len(newInput) - 1, 2):\n",
    "            result = XOR_P(newInput[[x, x + 1]])\n",
    "            xor_list.append(result)\n",
    "\n",
    "        if len(newInput) % 2 == 1:\n",
    "            xor_list.append(newInput[-1])\n",
    "\n",
    "        newInput = np.array(xor_list)\n",
    "    return newInput[0]\n",
    "\n",
    "for x in np_inputs:\n",
    "    print(f\"XOR_I({x}) = {XOR_I(x)}\")\n",
    "\n",
    "\n",
    "\n"
   ],
   "id": "72f0a84c93e4b00f",
   "outputs": [
    {
     "name": "stdout",
     "output_type": "stream",
     "text": [
      "XOR_I([0 0 0 0 0]) = 0\n",
      "XOR_I([0 0 0 0 1]) = 1\n",
      "XOR_I([0 0 0 1 0]) = 1\n",
      "XOR_I([0 0 0 1 1]) = 0\n",
      "XOR_I([0 0 1 0 0]) = 1\n",
      "XOR_I([0 0 1 0 1]) = 0\n",
      "XOR_I([0 0 1 1 0]) = 0\n",
      "XOR_I([0 0 1 1 1]) = 1\n",
      "XOR_I([0 1 0 0 0]) = 1\n",
      "XOR_I([0 1 0 0 1]) = 0\n",
      "XOR_I([0 1 0 1 0]) = 0\n",
      "XOR_I([0 1 0 1 1]) = 1\n",
      "XOR_I([0 1 1 0 0]) = 0\n",
      "XOR_I([0 1 1 0 1]) = 1\n",
      "XOR_I([0 1 1 1 0]) = 1\n",
      "XOR_I([0 1 1 1 1]) = 0\n",
      "XOR_I([1 0 0 0 0]) = 1\n",
      "XOR_I([1 0 0 0 1]) = 0\n",
      "XOR_I([1 0 0 1 0]) = 0\n",
      "XOR_I([1 0 0 1 1]) = 1\n",
      "XOR_I([1 0 1 0 0]) = 0\n",
      "XOR_I([1 0 1 0 1]) = 1\n",
      "XOR_I([1 0 1 1 0]) = 1\n",
      "XOR_I([1 0 1 1 1]) = 0\n",
      "XOR_I([1 1 0 0 0]) = 0\n",
      "XOR_I([1 1 0 0 1]) = 1\n",
      "XOR_I([1 1 0 1 0]) = 1\n",
      "XOR_I([1 1 0 1 1]) = 0\n",
      "XOR_I([1 1 1 0 0]) = 1\n",
      "XOR_I([1 1 1 0 1]) = 0\n",
      "XOR_I([1 1 1 1 0]) = 0\n",
      "XOR_I([1 1 1 1 1]) = 1\n"
     ]
    }
   ],
   "execution_count": 31
  },
  {
   "metadata": {
    "ExecuteTime": {
     "end_time": "2025-10-27T19:12:25.664588Z",
     "start_time": "2025-10-27T19:12:25.633789Z"
    }
   },
   "cell_type": "code",
   "source": [
    "def XOR_R(inputs):\n",
    "    newInput = np.array(inputs)\n",
    "    if len(newInput) == 1:\n",
    "        return newInput[0]\n",
    "\n",
    "    xor_list = []\n",
    "    for x in range(0, len(newInput) - 1, 2):\n",
    "        result = XOR_P(newInput[[x, x + 1]])\n",
    "        xor_list.append(result)\n",
    "\n",
    "    if len(newInput) % 2 == 1:\n",
    "        xor_list.append(newInput[-1])\n",
    "\n",
    "    newInput = np.array(xor_list)\n",
    "    return XOR_R(newInput)\n",
    "\n",
    "for x in np_inputs:\n",
    "    print(f\"{x} -> Linear={XOR_L(x)}, Iterative={XOR_I(x)}, Recursive={XOR_R(x)}\")\n",
    "\n",
    "\n",
    "\n",
    "\n"
   ],
   "id": "26be2584edb5f7bc",
   "outputs": [
    {
     "name": "stdout",
     "output_type": "stream",
     "text": [
      "[0 0 0 0 0] -> Linear=0, Iterative=0, Recursive=0\n",
      "[0 0 0 0 1] -> Linear=1, Iterative=1, Recursive=1\n",
      "[0 0 0 1 0] -> Linear=1, Iterative=1, Recursive=1\n",
      "[0 0 0 1 1] -> Linear=0, Iterative=0, Recursive=0\n",
      "[0 0 1 0 0] -> Linear=1, Iterative=1, Recursive=1\n",
      "[0 0 1 0 1] -> Linear=0, Iterative=0, Recursive=0\n",
      "[0 0 1 1 0] -> Linear=0, Iterative=0, Recursive=0\n",
      "[0 0 1 1 1] -> Linear=1, Iterative=1, Recursive=1\n",
      "[0 1 0 0 0] -> Linear=1, Iterative=1, Recursive=1\n",
      "[0 1 0 0 1] -> Linear=0, Iterative=0, Recursive=0\n",
      "[0 1 0 1 0] -> Linear=0, Iterative=0, Recursive=0\n",
      "[0 1 0 1 1] -> Linear=1, Iterative=1, Recursive=1\n",
      "[0 1 1 0 0] -> Linear=0, Iterative=0, Recursive=0\n",
      "[0 1 1 0 1] -> Linear=1, Iterative=1, Recursive=1\n",
      "[0 1 1 1 0] -> Linear=1, Iterative=1, Recursive=1\n",
      "[0 1 1 1 1] -> Linear=0, Iterative=0, Recursive=0\n",
      "[1 0 0 0 0] -> Linear=1, Iterative=1, Recursive=1\n",
      "[1 0 0 0 1] -> Linear=0, Iterative=0, Recursive=0\n",
      "[1 0 0 1 0] -> Linear=0, Iterative=0, Recursive=0\n",
      "[1 0 0 1 1] -> Linear=1, Iterative=1, Recursive=1\n",
      "[1 0 1 0 0] -> Linear=0, Iterative=0, Recursive=0\n",
      "[1 0 1 0 1] -> Linear=1, Iterative=1, Recursive=1\n",
      "[1 0 1 1 0] -> Linear=1, Iterative=1, Recursive=1\n",
      "[1 0 1 1 1] -> Linear=0, Iterative=0, Recursive=0\n",
      "[1 1 0 0 0] -> Linear=0, Iterative=0, Recursive=0\n",
      "[1 1 0 0 1] -> Linear=1, Iterative=1, Recursive=1\n",
      "[1 1 0 1 0] -> Linear=1, Iterative=1, Recursive=1\n",
      "[1 1 0 1 1] -> Linear=0, Iterative=0, Recursive=0\n",
      "[1 1 1 0 0] -> Linear=1, Iterative=1, Recursive=1\n",
      "[1 1 1 0 1] -> Linear=0, Iterative=0, Recursive=0\n",
      "[1 1 1 1 0] -> Linear=0, Iterative=0, Recursive=0\n",
      "[1 1 1 1 1] -> Linear=1, Iterative=1, Recursive=1\n"
     ]
    }
   ],
   "execution_count": 38
  }
 ],
 "metadata": {
  "kernelspec": {
   "display_name": "Python 3",
   "language": "python",
   "name": "python3"
  },
  "language_info": {
   "codemirror_mode": {
    "name": "ipython",
    "version": 2
   },
   "file_extension": ".py",
   "mimetype": "text/x-python",
   "name": "python",
   "nbconvert_exporter": "python",
   "pygments_lexer": "ipython2",
   "version": "2.7.6"
  }
 },
 "nbformat": 4,
 "nbformat_minor": 5
}
