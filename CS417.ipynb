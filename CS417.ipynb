{
 "cells": [
  {
   "cell_type": "code",
   "id": "initial_id",
   "metadata": {
    "collapsed": true,
    "jupyter": {
     "is_executing": true
    }
   },
   "source": [
    "import numpy as np\n",
    "def step(x):\n",
    "    return 1 if x >= 0 else 0\n",
    "def neuron (inputs, weights, biases):\n",
    "    return step(np.dot(inputs, weights) + biases)\n",
    "def AND_P(inputs):\n",
    "    n = neuron(inputs, [1, 1], -2)\n",
    "    return n\n",
    "x = [[a, b] for a in range(2) for b in range(2)]\n",
    "\n",
    "print(f\"AND_P({x}) = {AND_P(x)} \")"
   ],
   "outputs": [],
   "execution_count": null
  }
 ],
 "metadata": {
  "kernelspec": {
   "display_name": "Python 3",
   "language": "python",
   "name": "python3"
  },
  "language_info": {
   "codemirror_mode": {
    "name": "ipython",
    "version": 2
   },
   "file_extension": ".py",
   "mimetype": "text/x-python",
   "name": "python",
   "nbconvert_exporter": "python",
   "pygments_lexer": "ipython2",
   "version": "2.7.6"
  }
 },
 "nbformat": 4,
 "nbformat_minor": 5
}
