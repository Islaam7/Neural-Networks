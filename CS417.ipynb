{
 "cells": [
  {
   "cell_type": "code",
   "id": "initial_id",
   "metadata": {
    "collapsed": true,
    "ExecuteTime": {
     "end_time": "2025-10-18T21:55:26.687925Z",
     "start_time": "2025-10-18T21:55:26.684666Z"
    }
   },
   "source": [
    "def step(x):\n",
    "    return 1 if x >= 0 else 0\n",
    "def neuron(inputs, weights, bias):\n",
    "    return step(np.dot(inputs, weights) + bias)"
   ],
   "outputs": [],
   "execution_count": 4
  },
  {
   "metadata": {
    "ExecuteTime": {
     "end_time": "2025-10-18T21:56:22.018915Z",
     "start_time": "2025-10-18T21:56:22.014157Z"
    }
   },
   "cell_type": "code",
   "source": [
    "def OR_P(inputs):\n",
    "    return neuron(inputs, [1, 1], -1)\n",
    "\n",
    "## NOT Gate\n",
    "def NOT_P(input):\n",
    "    return neuron(input, [-1], 0)\n",
    "\n",
    "## AND Gate\n",
    "def AND_P(inputs):\n",
    "    return neuron(inputs, [1, 1], -2)\n",
    "\n",
    "## XOR Gate V2\n",
    "def XOR_P(inputs):\n",
    "    n1 = neuron(inputs, [1, 1], -1)\n",
    "    n2 = neuron(inputs, [-1, -1], 1)\n",
    "    n3 = neuron([n1, n2], [1, 1], -2)\n",
    "    return n3"
   ],
   "id": "9275a8e855932302",
   "outputs": [],
   "execution_count": 6
  },
  {
   "metadata": {
    "ExecuteTime": {
     "end_time": "2025-10-18T21:56:54.190239Z",
     "start_time": "2025-10-18T21:56:54.183673Z"
    }
   },
   "cell_type": "code",
   "source": [
    "inputsList = [[a, b] for a in range(2) for b in range(2)]\n",
    "for x in inputsList:\n",
    "    print(f\"AND_P({x}) = {OR_P(x)}\")\n",
    "\n",
    "print(\"-\" * 50)\n",
    "\n",
    "inputList = [0 ,1]\n",
    "for x in inputList:\n",
    "    print(f\"NOT_P({x}) = { NOT_P(x)}\")\n",
    "\n",
    "print(\"-\" * 50)\n",
    "\n",
    "inputsList = [[a, b] for a in range(2) for b in range(2)]\n",
    "for x in inputsList:\n",
    "    print(f\"OR_P({x}) = { OR_P(x)}\")\n",
    "\n",
    "print(\"-\" * 50)\n",
    "\n",
    "inputsList = [[a, b] for a in range(2) for b in range(2)]\n",
    "for x in inputsList:\n",
    "    print(f\"XOR_P({x}) = { XOR_P(x)}\")"
   ],
   "id": "62ee73356aaa5cc",
   "outputs": [
    {
     "name": "stdout",
     "output_type": "stream",
     "text": [
      "AND_P([0, 0]) = 0\n",
      "AND_P([0, 1]) = 1\n",
      "AND_P([1, 0]) = 1\n",
      "AND_P([1, 1]) = 1\n",
      "--------------------------------------------------\n",
      "NOT_P(0) = 1\n",
      "NOT_P(1) = 0\n",
      "--------------------------------------------------\n",
      "OR_P([0, 0]) = 0\n",
      "OR_P([0, 1]) = 1\n",
      "OR_P([1, 0]) = 1\n",
      "OR_P([1, 1]) = 1\n",
      "--------------------------------------------------\n",
      "XOR_P([0, 0]) = 0\n",
      "XOR_P([0, 1]) = 1\n",
      "XOR_P([1, 0]) = 1\n",
      "XOR_P([1, 1]) = 0\n"
     ]
    }
   ],
   "execution_count": 9
  },
  {
   "metadata": {},
   "cell_type": "code",
   "outputs": [],
   "execution_count": null,
   "source": [
    "def MLP_P(inputs):\n",
    "    n1 = neuron(inputs, )"
   ],
   "id": "b10aa8922247074c"
  }
 ],
 "metadata": {
  "kernelspec": {
   "display_name": "Python 3",
   "language": "python",
   "name": "python3"
  },
  "language_info": {
   "codemirror_mode": {
    "name": "ipython",
    "version": 2
   },
   "file_extension": ".py",
   "mimetype": "text/x-python",
   "name": "python",
   "nbconvert_exporter": "python",
   "pygments_lexer": "ipython2",
   "version": "2.7.6"
  }
 },
 "nbformat": 4,
 "nbformat_minor": 5
}
