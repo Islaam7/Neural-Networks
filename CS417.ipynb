{
 "cells": [
  {
   "cell_type": "code",
   "id": "initial_id",
   "metadata": {
    "collapsed": true,
    "ExecuteTime": {
     "end_time": "2025-10-19T18:35:31.607314Z",
     "start_time": "2025-10-19T18:35:31.602777Z"
    }
   },
   "source": [
    "import numpy as np\n",
    "def step(x):\n",
    "    return 1 if x >= 0 else 0\n",
    "def neuron(inputs, weights, bias):\n",
    "    return step(np.dot(inputs, weights) + bias)"
   ],
   "outputs": [],
   "execution_count": 15
  },
  {
   "metadata": {
    "ExecuteTime": {
     "end_time": "2025-10-19T18:36:10.605544Z",
     "start_time": "2025-10-19T18:36:10.599480Z"
    }
   },
   "cell_type": "code",
   "source": [
    "def OR_P(inputs):\n",
    "    return neuron(inputs, np.array([1, 1]), -1)\n",
    "\n",
    "## NOT Gate\n",
    "def NOT_P(input):\n",
    "    return neuron(input, np.array([-1]), 0)\n",
    "\n",
    "## AND Gate\n",
    "def AND_P(inputs):\n",
    "    return neuron(inputs, np.array([1, 1]), -2)\n",
    "\n",
    "## XOR Gate V2\n",
    "def XOR_P(inputs):\n",
    "    n1 = neuron(inputs, np.array([1, 1]), -1)\n",
    "    n2 = neuron(inputs, np.array([-1, -1]), 1)\n",
    "    n3 = neuron([n1, n2], np.array([1, 1]), -2)\n",
    "    return n3"
   ],
   "id": "9275a8e855932302",
   "outputs": [],
   "execution_count": 19
  },
  {
   "metadata": {
    "ExecuteTime": {
     "end_time": "2025-10-19T18:36:13.685112Z",
     "start_time": "2025-10-19T18:36:13.677472Z"
    }
   },
   "cell_type": "code",
   "source": [
    "inputsList = [[a, b] for a in range(2) for b in range(2)]\n",
    "np_inputsList = np.array(inputsList)\n",
    "for x in np_inputsList:\n",
    "    print(f\"AND_P({x}) = {AND_P(x)}\")\n",
    "\n",
    "print(\"-\" * 50)\n",
    "\n",
    "inputList = [0 ,1]\n",
    "np_inputList = np.array(inputList)\n",
    "for x in np_inputList:\n",
    "    print(f\"NOT_P({x}) = { NOT_P(x)}\")\n",
    "\n",
    "print(\"-\" * 50)\n",
    "\n",
    "for x in np_inputsList:\n",
    "    print(f\"OR_P({x}) = { OR_P(x)}\")\n",
    "\n",
    "print(\"-\" * 50)\n",
    "\n",
    "for x in np_inputsList:\n",
    "    print(f\"XOR_P({x}) = { XOR_P(x)}\")"
   ],
   "id": "62ee73356aaa5cc",
   "outputs": [
    {
     "name": "stdout",
     "output_type": "stream",
     "text": [
      "AND_P([0 0]) = 0\n",
      "AND_P([0 1]) = 0\n",
      "AND_P([1 0]) = 0\n",
      "AND_P([1 1]) = 1\n",
      "--------------------------------------------------\n",
      "NOT_P(0) = 1\n",
      "NOT_P(1) = 0\n",
      "--------------------------------------------------\n",
      "OR_P([0 0]) = 0\n",
      "OR_P([0 1]) = 1\n",
      "OR_P([1 0]) = 1\n",
      "OR_P([1 1]) = 1\n",
      "--------------------------------------------------\n",
      "XOR_P([0 0]) = 0\n",
      "XOR_P([0 1]) = 1\n",
      "XOR_P([1 0]) = 1\n",
      "XOR_P([1 1]) = 0\n"
     ]
    }
   ],
   "execution_count": 20
  },
  {
   "metadata": {
    "ExecuteTime": {
     "end_time": "2025-10-19T18:26:42.080129Z",
     "start_time": "2025-10-19T18:26:42.073236Z"
    }
   },
   "cell_type": "code",
   "source": [
    "def MLP_P(inputs):\n",
    "    n1 = neuron(inputs[[1, 2]], np.array([1, 1]), -2)\n",
    "    n2 = neuron(inputs[[1, 3]], np.array([1, 1]), -2)\n",
    "    n3 = neuron(inputs[[0, 2]], np.array([1, -1]), -1)\n",
    "    n4 = neuron(inputs[[0, 1, 3]], np.array([1, -1, 1]), -2)\n",
    "    n5 = neuron(np.array([[n3, n4]]), np.array([1, 1]), -1)\n",
    "    n6 = neuron(np.array([[n1, n2]]), np.array([1, -1]), 0)\n",
    "    n7 = neuron(np.array([[n5, n6]]), np.array([1, 1]), -2)\n",
    "    return n7\n",
    "\n",
    "def MLP_EXP(inputs):\n",
    "    return ((inputs[0] and not inputs[1] and inputs[3]) or (inputs[0] and not inputs[2])) and ((inputs[1] and inputs[2]) or not (inputs[1] and inputs[3]))\n"
   ],
   "id": "b10aa8922247074c",
   "outputs": [],
   "execution_count": 8
  },
  {
   "metadata": {
    "ExecuteTime": {
     "end_time": "2025-10-19T18:31:50.187354Z",
     "start_time": "2025-10-19T18:31:50.178949Z"
    }
   },
   "cell_type": "code",
   "source": [
    "inputs = [[a, x, y, z] for a in range(2) for x in range(2) for y in range(2) for z in range(2)]\n",
    "np_inputs = np.array(inputs)\n",
    "for x in np_inputs:\n",
    "    print(f\"MLP_P({x}) = { MLP_P(x)} -> {bool(MLP_EXP(x))}\")"
   ],
   "id": "5adc653d18674568",
   "outputs": [
    {
     "name": "stdout",
     "output_type": "stream",
     "text": [
      "MLP_P([0 0 0 0]) = 0 -> False\n",
      "MLP_P([0 0 0 1]) = 0 -> False\n",
      "MLP_P([0 0 1 0]) = 0 -> False\n",
      "MLP_P([0 0 1 1]) = 0 -> False\n",
      "MLP_P([0 1 0 0]) = 0 -> False\n",
      "MLP_P([0 1 0 1]) = 0 -> False\n",
      "MLP_P([0 1 1 0]) = 0 -> False\n",
      "MLP_P([0 1 1 1]) = 0 -> False\n",
      "MLP_P([1 0 0 0]) = 1 -> True\n",
      "MLP_P([1 0 0 1]) = 1 -> True\n",
      "MLP_P([1 0 1 0]) = 0 -> False\n",
      "MLP_P([1 0 1 1]) = 1 -> True\n",
      "MLP_P([1 1 0 0]) = 1 -> True\n",
      "MLP_P([1 1 0 1]) = 0 -> False\n",
      "MLP_P([1 1 1 0]) = 0 -> False\n",
      "MLP_P([1 1 1 1]) = 0 -> False\n"
     ]
    }
   ],
   "execution_count": 11
  }
 ],
 "metadata": {
  "kernelspec": {
   "display_name": "Python 3",
   "language": "python",
   "name": "python3"
  },
  "language_info": {
   "codemirror_mode": {
    "name": "ipython",
    "version": 2
   },
   "file_extension": ".py",
   "mimetype": "text/x-python",
   "name": "python",
   "nbconvert_exporter": "python",
   "pygments_lexer": "ipython2",
   "version": "2.7.6"
  }
 },
 "nbformat": 4,
 "nbformat_minor": 5
}
